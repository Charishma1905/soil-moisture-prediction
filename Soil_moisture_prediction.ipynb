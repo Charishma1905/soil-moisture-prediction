{
 "cells": [
  {
   "cell_type": "code",
   "execution_count": 15,
   "id": "30e7c937-3e71-4b6a-b112-3ea21ab39fdd",
   "metadata": {},
   "outputs": [
    {
     "name": "stdout",
     "output_type": "stream",
     "text": [
      "   temperature  humidity  soil_moisture\n",
      "0           25        60             45\n",
      "1           28        65             50\n",
      "2           30        70             55\n",
      "3           32        72             58\n",
      "4           27        68             52\n"
     ]
    }
   ],
   "source": [
    "import pandas as pd\n",
    "\n",
    "df = pd.read_csv(\"soil_moisture.csv - Sheet1.csv\")   # put exact name here\n",
    "print(df.head())\n",
    "\n"
   ]
  },
  {
   "cell_type": "code",
   "execution_count": 16,
   "id": "025f11dd-ecca-47e8-97b9-5aff6d7e3156",
   "metadata": {},
   "outputs": [
    {
     "name": "stdout",
     "output_type": "stream",
     "text": [
      "   temperature  humidity  soil_moisture\n",
      "0           25        60             45\n",
      "1           28        65             50\n",
      "2           30        70             55\n",
      "3           32        72             58\n",
      "4           27        68             52\n",
      "5           26        64             48\n",
      "6           29        66             53\n",
      "7           31        71             57\n",
      "8           33        75             60\n",
      "9           24        59             44\n"
     ]
    }
   ],
   "source": [
    "print(df)"
   ]
  },
  {
   "cell_type": "code",
   "execution_count": 17,
   "id": "56e7a15c-7884-4b9b-af1d-a844c5f16ffe",
   "metadata": {},
   "outputs": [
    {
     "name": "stdout",
     "output_type": "stream",
     "text": [
      "(10, 3)\n"
     ]
    }
   ],
   "source": [
    "print(df.shape)"
   ]
  },
  {
   "cell_type": "code",
   "execution_count": 20,
   "id": "0c104983-dda2-4ba5-8120-52ccb4dca980",
   "metadata": {},
   "outputs": [
    {
     "name": "stdout",
     "output_type": "stream",
     "text": [
      "Mean Squared Error: 0.7116008943384057\n",
      "R² Score: 0.9715359642264638\n",
      "Intercept: -10.587991266375546\n",
      "Coefficients: [0.90524017 0.55458515]\n"
     ]
    },
    {
     "data": {
      "image/png": "[encoded data removed]",
      "text/plain": [
       "<Figure size 640x480 with 1 Axes>"
      ]
     },
     "metadata": {},
     "output_type": "display_data"
    }
   ],
   "source": [
    "# Step 1: Import libraries\n",
    "import pandas as pd\n",
    "import numpy as np\n",
    "import matplotlib.pyplot as plt\n",
    "from sklearn.model_selection import train_test_split\n",
    "from sklearn.linear_model import LinearRegression\n",
    "from sklearn.metrics import mean_squared_error, r2_score\n",
    "\n",
    "# Step 2: Define Features (X) and Target (y)\n",
    "X = df[['temperature', 'humidity']]   # independent variables\n",
    "y = df['soil_moisture']               # dependent variable\n",
    "\n",
    "# Step 3: Split data\n",
    "X_train, X_test, y_train, y_test = train_test_split(\n",
    "    X, y, test_size=0.2, random_state=42\n",
    ")\n",
    "\n",
    "# Step 4: Train the model\n",
    "model = LinearRegression()\n",
    "model.fit(X_train, y_train)\n",
    "\n",
    "# Step 5: Make predictions\n",
    "y_pred = model.predict(X_test)\n",
    "\n",
    "# Step 6: Evaluate model\n",
    "print(\"Mean Squared Error:\", mean_squared_error(y_test, y_pred))\n",
    "print(\"R² Score:\", r2_score(y_test, y_pred))\n",
    "print(\"Intercept:\", model.intercept_)\n",
    "print(\"Coefficients:\", model.coef_)\n",
    "\n",
    "# Step 7: Visualization (optional)\n",
    "plt.scatter(y_test, y_pred, color='blue')\n",
    "plt.xlabel(\"Actual Soil Moisture\")\n",
    "plt.ylabel(\"Predicted Soil Moisture\")\n",
    "plt.title(\"Actual vs Predicted Soil Moisture\")\n",
    "plt.show()"
   ]
  },
  {
   "cell_type": "code",
   "execution_count": 21,
   "id": "5a0ae6d5-ad7f-4edd-a228-8e65f18c16ad",
   "metadata": {},
   "outputs": [
    {
     "name": "stdout",
     "output_type": "stream",
     "text": [
      "Regression Equation:\n",
      "soil_moisture = -10.59 + (0.91 * temperature) + (0.55 * humidity)\n"
     ]
    }
   ],
   "source": [
    "# Print regression equation\n",
    "coef_temp, coef_hum = model.coef_\n",
    "intercept = model.intercept_\n",
    "\n",
    "print(f\"Regression Equation:\")\n",
    "print(f\"soil_moisture = {intercept:.2f} + ({coef_temp:.2f} * temperature) + ({coef_hum:.2f} * humidity)\")"
   ]
  },
  {
   "cell_type": "code",
   "execution_count": 22,
   "id": "aaef3e43-fd92-4ebf-9b04-78fafd3f5908",
   "metadata": {},
   "outputs": [
    {
     "name": "stdout",
     "output_type": "stream",
     "text": [
      "Predicted Soil Moisture Values:\n",
      "[55.39017467 50.80676856 45.31812227]\n"
     ]
    }
   ],
   "source": [
    "# Example: predict soil moisture for new values\n",
    "new_data = pd.DataFrame({\n",
    "    'temperature': [30, 28, 25],\n",
    "    'humidity': [70, 65, 60]\n",
    "})\n",
    "\n",
    "predictions = model.predict(new_data)\n",
    "print(\"Predicted Soil Moisture Values:\")\n",
    "print(predictions)"
   ]
  },
  {
   "cell_type": "code",
   "execution_count": null,
   "id": "d1354850-215e-4a29-8376-110753e4c7b6",
   "metadata": {},
   "outputs": [],
   "source": []
  }
 ],
 "metadata": {
  "kernelspec": {
   "display_name": "Python 3 (ipykernel)",
   "language": "python",
   "name": "python3"
  },
  "language_info": {
   "codemirror_mode": {
    "name": "ipython",
    "version": 3
   },
   "file_extension": ".py",
   "mimetype": "text/x-python",
   "name": "python",
   "nbconvert_exporter": "python",
   "pygments_lexer": "ipython3",
   "version": "3.13.5"
  }
 },
 "nbformat": 4,
 "nbformat_minor": 5
}
